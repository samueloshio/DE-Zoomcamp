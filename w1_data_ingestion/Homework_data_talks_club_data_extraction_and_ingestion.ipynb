{
  "nbformat": 4,
  "nbformat_minor": 0,
  "metadata": {
    "colab": {
      "provenance": []
    },
    "kernelspec": {
      "name": "python3",
      "display_name": "Python 3"
    },
    "language_info": {
      "name": "python"
    }
  },
  "cells": [
    {
      "cell_type": "markdown",
      "source": [
        "# **Homework**: Data talks club data engineering zoomcamp Data loading workshop\n",
        "\n",
        "Hello folks, let's practice what we learned - Loading data with the best practices of data engineering.\n",
        "\n",
        "Here are the exercises we will do\n",
        "\n",
        "\n"
      ],
      "metadata": {
        "id": "mrTFv5nPClXh"
      }
    },
    {
      "cell_type": "markdown",
      "source": [
        "# 1. Use a generator\n",
        "\n",
        "Remember the concept of generator? Let's practice using them to futher our understanding of how they work.\n",
        "\n",
        "Let's define a generator and then run it as practice.\n",
        "\n",
        "**Answer the following questions:**\n",
        "\n",
        "- **Question 1: What is the sum of the outputs of the generator for limit = 5?**\n",
        "- **Question 2: What is the 13th number yielded**\n",
        "\n",
        "I suggest practicing these questions without GPT as the purpose is to further your learning."
      ],
      "metadata": {
        "id": "wLF4iXf-NR7t"
      }
    },
    {
      "cell_type": "code",
      "source": [
        "def square_root_generator(limit):\n",
        "    n = 1\n",
        "    while n <= limit:\n",
        "        yield n ** 0.5\n",
        "        n += 1\n",
        "\n",
        "# Example usage:\n",
        "limit = 13\n",
        "generator = square_root_generator(limit)\n",
        "\n",
        "for sqrt_value in generator:\n",
        "    print(sqrt_value)\n"
      ],
      "metadata": {
        "colab": {
          "base_uri": "https://localhost:8080/"
        },
        "id": "wLng-bDJN4jf",
        "outputId": "9f9db8f5-b511-4341-a2da-97c9610289e9"
      },
      "execution_count": 3,
      "outputs": [
        {
          "output_type": "stream",
          "name": "stdout",
          "text": [
            "1.0\n",
            "1.4142135623730951\n",
            "1.7320508075688772\n",
            "2.0\n",
            "2.23606797749979\n",
            "2.449489742783178\n",
            "2.6457513110645907\n",
            "2.8284271247461903\n",
            "3.0\n",
            "3.1622776601683795\n",
            "3.3166247903554\n",
            "3.4641016151377544\n",
            "3.605551275463989\n"
          ]
        }
      ]
    },
    {
      "cell_type": "code",
      "source": [
        "print(1.0 +\n",
        "1.4142135623730951 +\n",
        "1.7320508075688772 +\n",
        "2.0 +\n",
        "2.23606797749979)"
      ],
      "metadata": {
        "colab": {
          "base_uri": "https://localhost:8080/"
        },
        "id": "Fx8bidZHvf6D",
        "outputId": "2d39566c-fae3-4a08-a73e-76404a67642a"
      },
      "execution_count": 3,
      "outputs": [
        {
          "output_type": "stream",
          "name": "stdout",
          "text": [
            "8.382332347441762\n"
          ]
        }
      ]
    },
    {
      "cell_type": "markdown",
      "source": [],
      "metadata": {
        "id": "xbe3q55zN43j"
      }
    },
    {
      "cell_type": "markdown",
      "source": [
        "# 2. Append a generator to a table with existing data\n",
        "\n",
        "\n",
        "Below you have 2 generators. You will be tasked to load them to duckdb and answer some questions from the data\n",
        "\n",
        "1. Load the first generator and calculate the sum of ages of all people. Make sure to only load it once.\n",
        "2. Append the second generator to the same table as the first.\n",
        "3. **After correctly appending the data, calculate the sum of all ages of people.**\n",
        "\n",
        "\n"
      ],
      "metadata": {
        "id": "vjWhILzGJMpK"
      }
    },
    {
      "cell_type": "code",
      "source": [
        "# import dlt\n",
        "\n",
        "# # Define the first resource.\n",
        "# @dlt.resource(name=\"people_1\")\n",
        "# def people_1():\n",
        "#     for i in range(1, 6):\n",
        "#         yield {\"ID\": i, \"Name\": f\"Person_{i}\", \"Age\": 25 + i, \"City\": \"City_A\"}\n",
        "\n",
        "# # Define the second resource.\n",
        "# @dlt.resource(name=\"people_2\")\n",
        "# def people_2():\n",
        "#     for i in range(3, 9):\n",
        "#         yield {\"ID\": i, \"Name\": f\"Person_{i}\", \"Age\": 30 + i, \"City\": \"City_B\", \"Occupation\": f\"Job_{i}\"}\n",
        "\n",
        "# # Define a pipeline that will load data to a destination.\n",
        "# pipeline = dlt.pipeline(\n",
        "#     pipeline_name='my_pipeline',\n",
        "#     destination='my_destination',\n",
        "#     dataset_name='my_dataset'\n",
        "# )\n",
        "\n",
        "# # Add the resources to the pipeline.\n",
        "# pipeline.extract(people_1, write_disposition=\"append\")\n",
        "# pipeline.extract(people_2, write_disposition=\"append\")\n",
        "\n",
        "# # Run the pipeline.\n",
        "# pipeline.run()"
      ],
      "metadata": {
        "id": "aXxy6tiEzTQD"
      },
      "execution_count": 5,
      "outputs": []
    },
    {
      "cell_type": "code",
      "source": [
        "def people_1():\n",
        "    for i in range(1, 6):\n",
        "        yield {\"ID\": i, \"Name\": f\"Person_{i}\", \"Age\": 25 + i, \"City\": \"City_A\"}\n",
        "\n",
        "def people_2():\n",
        "    for i in range(3, 9):\n",
        "        yield {\"ID\": i, \"Name\": f\"Person_{i}\", \"Age\": 30 + i, \"City\": \"City_B\", \"Occupation\": f\"Job_{i}\"}\n",
        "\n",
        "# Combine the data from both generators.\n",
        "combined_data = list(people_1()) + list(people_2())\n",
        "\n",
        "# Calculate the sum of all ages.\n",
        "total_age = sum(person['Age'] for person in combined_data)\n",
        "print(f'Total age of all people: {total_age}')"
      ],
      "metadata": {
        "colab": {
          "base_uri": "https://localhost:8080/"
        },
        "id": "Gh2bK8milLzl",
        "outputId": "9c837d44-c163-4727-e2bc-357fd2a1a1e0"
      },
      "execution_count": 4,
      "outputs": [
        {
          "output_type": "stream",
          "name": "stdout",
          "text": [
            "Total age of all people: 353\n"
          ]
        }
      ]
    },
    {
      "cell_type": "code",
      "source": [
        "def people_1():\n",
        "    for i in range(1, 6):\n",
        "        yield {\"ID\": i, \"Name\": f\"Person_{i}\", \"Age\": 25 + i, \"City\": \"City_A\"}\n",
        "\n",
        "def people_2():\n",
        "    for i in range(3, 9):\n",
        "        yield {\"ID\": i, \"Name\": f\"Person_{i}\", \"Age\": 30 + i, \"City\": \"City_B\", \"Occupation\": f\"Job_{i}\"}\n",
        "\n",
        "# Combine the data from both generators.\n",
        "combined_data = list(people_1()) + list(people_2())\n",
        "\n",
        "# Calculate the sum of all ages.\n",
        "total_age = sum(person['Age'] for person in combined_data)\n",
        "print(f'Total age of all people: {total_age}')"
      ],
      "metadata": {
        "colab": {
          "base_uri": "https://localhost:8080/"
        },
        "id": "A1Q_15Lpz-Gq",
        "outputId": "2319c818-ef8f-4914-8a66-2f3e4ad61f4b"
      },
      "execution_count": 6,
      "outputs": [
        {
          "output_type": "stream",
          "name": "stdout",
          "text": [
            "Total age of all people: 353\n"
          ]
        }
      ]
    },
    {
      "cell_type": "code",
      "source": [
        "def people_1():\n",
        "    for i in range(1, 6):\n",
        "        yield {\"ID\": i, \"Name\": f\"Person_{i}\", \"Age\": 25 + i, \"City\": \"City_A\"}\n",
        "\n",
        "for person in people_1():\n",
        "    print(person)\n",
        "\n",
        "\n",
        "def people_2():\n",
        "    for i in range(3, 9):\n",
        "        yield {\"ID\": i, \"Name\": f\"Person_{i}\", \"Age\": 30 + i, \"City\": \"City_B\", \"Occupation\": f\"Job_{i}\"}\n",
        "\n",
        "\n",
        "for person in people_2():\n",
        "    print(person)\n",
        "\n",
        "# Combine the data from both generators.\n",
        "combined_data = list(people_1()) + list(people_2())\n",
        "\n",
        "# Calculate the sum of all ages.\n",
        "total_age = sum(person['Age'] for person in combined_data)\n",
        "print(f'Total age of all people: {total_age}')"
      ],
      "metadata": {
        "colab": {
          "base_uri": "https://localhost:8080/"
        },
        "id": "DisC6muQldYM",
        "outputId": "b909e65c-5e0e-425d-a789-2ada0a220ba1"
      },
      "execution_count": 5,
      "outputs": [
        {
          "output_type": "stream",
          "name": "stdout",
          "text": [
            "{'ID': 1, 'Name': 'Person_1', 'Age': 26, 'City': 'City_A'}\n",
            "{'ID': 2, 'Name': 'Person_2', 'Age': 27, 'City': 'City_A'}\n",
            "{'ID': 3, 'Name': 'Person_3', 'Age': 28, 'City': 'City_A'}\n",
            "{'ID': 4, 'Name': 'Person_4', 'Age': 29, 'City': 'City_A'}\n",
            "{'ID': 5, 'Name': 'Person_5', 'Age': 30, 'City': 'City_A'}\n",
            "{'ID': 3, 'Name': 'Person_3', 'Age': 33, 'City': 'City_B', 'Occupation': 'Job_3'}\n",
            "{'ID': 4, 'Name': 'Person_4', 'Age': 34, 'City': 'City_B', 'Occupation': 'Job_4'}\n",
            "{'ID': 5, 'Name': 'Person_5', 'Age': 35, 'City': 'City_B', 'Occupation': 'Job_5'}\n",
            "{'ID': 6, 'Name': 'Person_6', 'Age': 36, 'City': 'City_B', 'Occupation': 'Job_6'}\n",
            "{'ID': 7, 'Name': 'Person_7', 'Age': 37, 'City': 'City_B', 'Occupation': 'Job_7'}\n",
            "{'ID': 8, 'Name': 'Person_8', 'Age': 38, 'City': 'City_B', 'Occupation': 'Job_8'}\n",
            "Total age of all people: 353\n"
          ]
        }
      ]
    },
    {
      "cell_type": "code",
      "source": [
        "import pandas as pd\n",
        "\n",
        "def people_1():\n",
        "    for i in range(1, 6):\n",
        "        yield {\"ID\": i, \"Name\": f\"Person_{i}\", \"Age\": 25 + i, \"City\": \"City_A\"}\n",
        "\n",
        "for person in people_1():\n",
        "    print(person)\n",
        "\n",
        "\n",
        "def people_2():\n",
        "    for i in range(3, 9):\n",
        "        yield {\"ID\": i, \"Name\": f\"Person_{i}\", \"Age\": 30 + i, \"City\": \"City_B\", \"Occupation\": f\"Job_{i}\"}\n",
        "\n",
        "\n",
        "for person in people_2():\n",
        "    print(person)\n",
        "\n",
        "# Convert generators to DataFrames\n",
        "df1 = pd.DataFrame(people_1())\n",
        "df2 = pd.DataFrame(people_2())\n",
        "\n",
        "# Merge the two DataFrames on 'ID'\n",
        "merged_df = pd.merge(df1, df2, on='ID', how='outer')\n",
        "\n",
        "# Calculate the sum of ages\n",
        "total_age = merged_df['Age_x'].sum() + merged_df['Age_y'].sum()\n",
        "\n",
        "print(total_age)\n",
        "# if 'Age' in merged_df.columns:\n",
        "#     total_age = merged_df['Age'].sum()\n",
        "#     print(total_age)\n",
        "# else:\n",
        "#     print(\"No 'Age' column in the merged data\")"
      ],
      "metadata": {
        "colab": {
          "base_uri": "https://localhost:8080/"
        },
        "id": "DrpeOGFrnf6Z",
        "outputId": "1f85fa0e-e664-4f46-8f37-3169716eb3fe"
      },
      "execution_count": 11,
      "outputs": [
        {
          "output_type": "stream",
          "name": "stdout",
          "text": [
            "{'ID': 1, 'Name': 'Person_1', 'Age': 26, 'City': 'City_A'}\n",
            "{'ID': 2, 'Name': 'Person_2', 'Age': 27, 'City': 'City_A'}\n",
            "{'ID': 3, 'Name': 'Person_3', 'Age': 28, 'City': 'City_A'}\n",
            "{'ID': 4, 'Name': 'Person_4', 'Age': 29, 'City': 'City_A'}\n",
            "{'ID': 5, 'Name': 'Person_5', 'Age': 30, 'City': 'City_A'}\n",
            "{'ID': 3, 'Name': 'Person_3', 'Age': 33, 'City': 'City_B', 'Occupation': 'Job_3'}\n",
            "{'ID': 4, 'Name': 'Person_4', 'Age': 34, 'City': 'City_B', 'Occupation': 'Job_4'}\n",
            "{'ID': 5, 'Name': 'Person_5', 'Age': 35, 'City': 'City_B', 'Occupation': 'Job_5'}\n",
            "{'ID': 6, 'Name': 'Person_6', 'Age': 36, 'City': 'City_B', 'Occupation': 'Job_6'}\n",
            "{'ID': 7, 'Name': 'Person_7', 'Age': 37, 'City': 'City_B', 'Occupation': 'Job_7'}\n",
            "{'ID': 8, 'Name': 'Person_8', 'Age': 38, 'City': 'City_B', 'Occupation': 'Job_8'}\n",
            "353.0\n"
          ]
        }
      ]
    },
    {
      "cell_type": "code",
      "source": [
        "import pandas as pd\n",
        "\n",
        "def people_1():\n",
        "    for i in range(1, 6):\n",
        "        yield {\"ID\": i, \"Name\": f\"Person_{i}\", \"Age\": 25 + i, \"City\": \"City_A\"}\n",
        "\n",
        "def people_2():\n",
        "    for i in range(3, 9):\n",
        "        yield {\"ID\": i, \"Name\": f\"Person_{i}\", \"Age\": 30 + i, \"City\": \"City_B\", \"Occupation\": f\"Job_{i}\"}\n",
        "\n",
        "# Convert generators to pandas DataFrames\n",
        "df1 = pd.DataFrame(people_1())\n",
        "df2 = pd.DataFrame(people_2())\n",
        "\n",
        "# Merge the two DataFrames on the 'ID' column\n",
        "merged_df = pd.merge(df1, df2, on='ID', how='outer')\n",
        "\n",
        "# Calculate the sum of ages\n",
        "total_age = merged_df['Age_x'].sum() + merged_df['Age_y'].sum()\n",
        "\n",
        "print(total_age)"
      ],
      "metadata": {
        "colab": {
          "base_uri": "https://localhost:8080/"
        },
        "id": "V6exqwEtxcdL",
        "outputId": "f8351a22-73fe-4e12-c169-dec9b2ae6473"
      },
      "execution_count": 12,
      "outputs": [
        {
          "output_type": "stream",
          "name": "stdout",
          "text": [
            "353.0\n"
          ]
        }
      ]
    },
    {
      "cell_type": "code",
      "source": [
        "def people_1():\n",
        "    for i in range(1, 6):\n",
        "        yield {\"ID\": i, \"Name\": f\"Person_{i}\", \"Age\": 25 + i, \"City\": \"City_A\"}\n",
        "\n",
        "for person in people_1():\n",
        "    print(person)\n",
        "\n",
        "\n",
        "def people_2():\n",
        "    for i in range(3, 9):\n",
        "        yield {\"ID\": i, \"Name\": f\"Person_{i}\", \"Age\": 30 + i, \"City\": \"City_B\", \"Occupation\": f\"Job_{i}\"}\n",
        "\n",
        "\n",
        "for person in people_2():\n",
        "    print(person)\n",
        "\n",
        "total_age = 0\n",
        "\n",
        "for person in people_1():\n",
        "    total_age += person['Age']\n",
        "\n",
        "for person in people_2():\n",
        "    total_age += person['Age']\n",
        "\n",
        "print(total_age)\n",
        ""
      ],
      "metadata": {
        "colab": {
          "base_uri": "https://localhost:8080/"
        },
        "id": "fdA7WW26q5Y7",
        "outputId": "3640329f-da6a-4844-8e88-ad695b6b0749"
      },
      "execution_count": 10,
      "outputs": [
        {
          "output_type": "stream",
          "name": "stdout",
          "text": [
            "{'ID': 1, 'Name': 'Person_1', 'Age': 26, 'City': 'City_A'}\n",
            "{'ID': 2, 'Name': 'Person_2', 'Age': 27, 'City': 'City_A'}\n",
            "{'ID': 3, 'Name': 'Person_3', 'Age': 28, 'City': 'City_A'}\n",
            "{'ID': 4, 'Name': 'Person_4', 'Age': 29, 'City': 'City_A'}\n",
            "{'ID': 5, 'Name': 'Person_5', 'Age': 30, 'City': 'City_A'}\n",
            "{'ID': 3, 'Name': 'Person_3', 'Age': 33, 'City': 'City_B', 'Occupation': 'Job_3'}\n",
            "{'ID': 4, 'Name': 'Person_4', 'Age': 34, 'City': 'City_B', 'Occupation': 'Job_4'}\n",
            "{'ID': 5, 'Name': 'Person_5', 'Age': 35, 'City': 'City_B', 'Occupation': 'Job_5'}\n",
            "{'ID': 6, 'Name': 'Person_6', 'Age': 36, 'City': 'City_B', 'Occupation': 'Job_6'}\n",
            "{'ID': 7, 'Name': 'Person_7', 'Age': 37, 'City': 'City_B', 'Occupation': 'Job_7'}\n",
            "{'ID': 8, 'Name': 'Person_8', 'Age': 38, 'City': 'City_B', 'Occupation': 'Job_8'}\n",
            "353\n"
          ]
        }
      ]
    },
    {
      "cell_type": "markdown",
      "source": [],
      "metadata": {
        "id": "vtdTIm4fvQCN"
      }
    },
    {
      "cell_type": "markdown",
      "source": [
        "# 3. Merge a generator\n",
        "\n",
        "Re-use the generators from Exercise 2.\n",
        "\n",
        "A table's primary key needs to be created from the start, so load your data to a new table with primary key ID.\n",
        "\n",
        "Load your first generator first, and then load the second one with merge. Since they have overlapping IDs, some of the records from the first load should be replaced by the ones from the second load.\n",
        "\n",
        "After loading, you should have a total of 8 records, and ID 3 should have age 33.\n",
        "\n",
        "Question: **Calculate the sum of ages of all the people loaded as described above.**\n"
      ],
      "metadata": {
        "id": "pY4cFAWOSwN1"
      }
    },
    {
      "cell_type": "markdown",
      "source": [
        "# Solution: First make sure that the following modules are installed:"
      ],
      "metadata": {
        "id": "kKB2GTB9oVjr"
      }
    },
    {
      "cell_type": "code",
      "source": [
        "#Install the dependencies\n",
        "%%capture\n",
        "!pip install dlt[duckdb]"
      ],
      "metadata": {
        "id": "xTVvtyqrfVNq"
      },
      "execution_count": 16,
      "outputs": []
    },
    {
      "cell_type": "code",
      "source": [
        "# to do: homework :)\n",
        "import dlt\n",
        "\n",
        "# Define your generators\n",
        "def people_1():\n",
        "    for i in range(1, 6):\n",
        "        yield {\"ID\": i, \"Name\": f\"Person_{i}\", \"Age\": 25 + i, \"City\": \"City_A\"}\n",
        "\n",
        "def people_2():\n",
        "    for i in range(3, 9):\n",
        "        yield {\"ID\": i, \"Name\": f\"Person_{i}\", \"Age\": 30 + i, \"City\": \"City_B\", \"Occupation\": f\"Job_{i}\"}\n",
        "\n",
        "# Create a pipeline\n",
        "pipeline = dlt.pipeline(\n",
        "    pipeline_name=\"people_data\",\n",
        "    destination=\"duckdb\",  # or any other destination you prefer\n",
        "    dataset_name=\"people\"\n",
        ")\n",
        "\n",
        "# Load the first generator\n",
        "@dlt.resource(primary_key=\"ID\", write_disposition=\"replace\")\n",
        "def load_people_1():\n",
        "    yield from people_1()\n",
        "\n",
        "pipeline.run(load_people_1)\n",
        "\n",
        "# Load the second generator with merge\n",
        "@dlt.resource(primary_key=\"ID\", write_disposition=\"merge\")\n",
        "def load_people_2():\n",
        "    yield from people_2()\n",
        "\n",
        "pipeline.run(load_people_2)\n",
        "\n",
        "load_info = pipeline.run(load_people_2)\n",
        "\n",
        "# Print general information\n",
        "print(f\"Pipeline: {load_info.pipeline}\")\n",
        "print(f\"Destination: {load_info.destination_type}\")\n",
        "print(f\"Dataset: {load_info.dataset_name}\")\n",
        "\n",
        "# Print information about each load package\n",
        "for package in load_info.load_packages:\n",
        "    print(f\"Load ID: {package.load_id}\")\n",
        "    print(f\"State: {package.state}\")\n",
        "    print(f\"Schema: {package.schema}\")\n",
        "    print(f\"Completed at: {package.completed_at}\")\n",
        "\n",
        "    # Print information about each job in the package\n",
        "    for job in package.jobs['completed_jobs']:\n",
        "        print(f\"Job file path: {job.file_path}\")\n",
        "        print(f\"State: {job.state}\")\n",
        "        print(f\"Elapsed time: {job.elapsed}\")\n",
        "        print(f\"Failed message: {job.failed_message}\")\n",
        "\n",
        "# Now you can query the loaded data to calculate the sum of ages\n",
        "query = \"SELECT SUM(Age) FROM load_people_2\"\n",
        "with pipeline.sql_client() as client:\n",
        "    result = client.execute(query)\n",
        "    sum_of_ages = result.fetchone()[0]\n",
        "\n",
        "print(f\"The sum of ages is {sum_of_ages}\")"
      ],
      "metadata": {
        "id": "a2-PRBAkGC2K",
        "colab": {
          "base_uri": "https://localhost:8080/"
        },
        "outputId": "97dc9868-0e0b-4f6f-c5a6-750e2e411b71"
      },
      "execution_count": 25,
      "outputs": [
        {
          "output_type": "stream",
          "name": "stdout",
          "text": [
            "Pipeline: <dlt.pipeline.pipeline.Pipeline object at 0x7b53fab00d30>\n",
            "Destination: dlt.destinations.duckdb\n",
            "Dataset: people\n",
            "Load ID: 1708275784.5545907\n",
            "State: loaded\n",
            "Schema: Schema people_data at 135600617994992\n",
            "Completed at: 2024-02-18 17:03:05.395478+00:00\n",
            "Job file path: /var/dlt/pipelines/people_data/load/loaded/1708275784.5545907/completed_jobs/load_people_2.da5fcd3566.0.insert_values\n",
            "State: completed_jobs\n",
            "Elapsed time: 0.7930686473846436\n",
            "Failed message: None\n",
            "Job file path: /var/dlt/pipelines/people_data/load/loaded/1708275784.5545907/completed_jobs/load_people_2.3e11a524c4.0.sql\n",
            "State: completed_jobs\n",
            "Elapsed time: 0.3660316467285156\n",
            "Failed message: None\n",
            "The sum of ages is 213\n"
          ]
        }
      ]
    },
    {
      "cell_type": "markdown",
      "source": [
        "Questions? difficulties? We are here to help.\n",
        "- DTC data engineering course channel: https://datatalks-club.slack.com/archives/C01FABYF2RG\n",
        "- dlt's DTC cohort channel: https://dlthub-community.slack.com/archives/C06GAEX2VNX"
      ],
      "metadata": {
        "id": "PoTJu4kbGG0z"
      }
    }
  ]
}